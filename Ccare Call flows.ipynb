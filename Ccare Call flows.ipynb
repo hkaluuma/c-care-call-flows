{
 "cells": [
  {
   "cell_type": "markdown",
   "id": "a06e3526",
   "metadata": {},
   "source": [
    "**MainFlow**"
   ]
  },
  {
   "cell_type": "markdown",
   "id": "ef4edfa1",
   "metadata": {},
   "source": [
    "entry"
   ]
  },
  {
   "cell_type": "code",
   "execution_count": null,
   "id": "2a7be95b",
   "metadata": {
    "vscode": {
     "languageId": "plaintext"
    }
   },
   "outputs": [],
   "source": [
    "#set($callId = $params.callId)\n",
    "#if(!$phone)\n",
    " #set($phone = $params.get(\"session.callerid\"))\n",
    "#end\n",
    "\n",
    "#set($voiceFileName = \"hello_welcome_ai\")\n",
    "`$voiceFileName`"
   ]
  },
  {
   "cell_type": "markdown",
   "id": "e597947f",
   "metadata": {},
   "source": [
    "entry-handler"
   ]
  },
  {
   "cell_type": "code",
   "execution_count": null,
   "id": "838a0421",
   "metadata": {
    "vscode": {
     "languageId": "plaintext"
    }
   },
   "outputs": [],
   "source": [
    "#set($params.playedMessages = 'Entry-handler')\n",
    "::::::::::::::::::::::::::::::::\n",
    "::::: MainFlow params logger::::\n",
    "phone:::::::::::: $phone\n",
    "session.callid::: $params.get(\"session.callerid\")\n",
    "::::::::::::::::::::::::::::::::\n",
    "params::::::::::: $params\n",
    "messages::::::::: $messages\n",
    "::::::::::::::::::::::::::::::::\n",
    "::::personId::::::::::::::: $personId\n",
    "::::actorType:::::::::::::: $actorType\n",
    "::::actorId:::::::::::::::: $actorId\n",
    "::::refKey::::::::::::::::: $refKey::::messagesscheduledServicegroupId::::phone::::::::::::::::::$phone\n",
    "::::internal:::::::::::::::internal:::causes exception that hides other watch logs\n",
    "::::callId = $internal.callId\n",
    "::::::::::::::::::::::::::::::::\n",
    "\n",
    "#set($callId = $internal.callId)\n",
    "#set($pinAttempts = 0)\n",
    "#set($maxPinAttempt = 3)\n",
    "#set($isLocaleSet = \"NO\")\n",
    "  \n",
    "#if($refKey)\n",
    "\t#set($sourceId = $refKey)\n",
    "  #set($sourceType = \"SCHEDULED_SERVICE_GROUP\")\n",
    "  #set($serviceGroup = $messagingGroupService.getById($Integer.parseInt($refKey)))\n",
    "  \n",
    "  ::::personId::::::::::::::: $personId\n",
    "::::actorType:::::::::::::: $actorType\n",
    "::::actorId:::::::::::::::: $actorId\n",
    "  \n",
    "\n",
    "  ##set($patientId = $serviceGroup.getPatient().personId)\n",
    "patientId:::::::: $patientId\n",
    "service group:::: $sourceId\n",
    "  ## testing|main\n",
    "#else\n",
    "\t#set($sourceId = $callId)\n",
    "  #set($sourceType = \"OTHER\")\n",
    "  #set($patientId = $actorId)\n",
    "#end\n",
    "\n",
    "#if(!$actorId && $personId)\n",
    "\t#set ($actorId = $personId)\n",
    "#elseif($actorId)\t\n",
    "\t#set ($actorId = $Integer.parseInt($actorId)) \n",
    "#end\n",
    "\n",
    "Testing actorId:::::::::: $actorId\n",
    "#if($actorId)\n",
    "\t#set($person = $personDAO.getPerson($actorId))\n",
    "#else\n",
    " |main|\n",
    "#end \n",
    "\n",
    "\n",
    "#if($person)\n",
    "\n",
    "\t  #set($personStatus = \"DEACTIVATED\")\n",
    "    #set($maxPinAttempt = 3)\n",
    "    #set($pinAttempts = 0)\n",
    "  \t#foreach($attribute in $person.getActiveAttributes())\n",
    "\n",
    "      #if($attribute.attributeType.name == 'Person status' && !$attribute.voided)\n",
    "      \t#set($personStatus = $attribute.value)\n",
    "      #end\n",
    "      #if($attribute.attributeType.name == 'personLanguage' && !$attribute.voided)\n",
    "        #set($locale = $attribute.value)\n",
    "      \t#set($isLocaleSet = \"YES\")\n",
    "        #set($isvoided = $attribute.voided)\n",
    "      #end\n",
    "      ##if($attribute.attributeType.name == 'personLanguage' && !$attribute.voided)\n",
    "      \t##set($locale = $attribute.value)\n",
    "      ##end\n",
    "    #end\n",
    ":::::::::Locale:::::::::::::: $locale\n",
    ":::::::::isLocaleSet::::::::: $isLocaleSet\n",
    ":::::::::PersonStatus:::::::: $personStatus\n",
    ":::::::::isvoided?::::::::::: $isvoided\n",
    "\n",
    "phone:::::::::::: $phone\n",
    "##session.callid::: $params.get(\"session.callerid\")\n",
    "::::::::::::::::::::::::::::::::\n",
    "##params::::::::::: $params\n",
    "##messages::::::::: $messages\n",
    "::::::::::::::::::::::::::::::::\n",
    "personId::::::::: $personId\n",
    "actorType:::::::: $actorType\n",
    "actorId:::::::::: $actorId\n",
    "refKey::::::::::: $refKey\n",
    "internal::::::::: $internal\n",
    "::::::::::::::::::::::::::::::::\n",
    "\t\t|MainFlow.main|\n",
    "#else\n",
    "\t\t|exit|\n",
    "#end"
   ]
  },
  {
   "cell_type": "markdown",
   "id": "b0f0b366",
   "metadata": {},
   "source": [
    "main"
   ]
  },
  {
   "cell_type": "code",
   "execution_count": null,
   "id": "94f12b9e",
   "metadata": {
    "vscode": {
     "languageId": "plaintext"
    }
   },
   "outputs": [],
   "source": [
    "#set($voiceFileName = \"visit_reminder_intro\")\n",
    "`$voiceFileName`"
   ]
  },
  {
   "cell_type": "markdown",
   "id": "274f8154",
   "metadata": {},
   "source": [
    "main-handler"
   ]
  },
  {
   "cell_type": "code",
   "execution_count": null,
   "id": "dbf90ea3",
   "metadata": {
    "vscode": {
     "languageId": "plaintext"
    }
   },
   "outputs": [],
   "source": [
    "#set($params.playedMessages = 'MainFlow_main')\n",
    "#set($noInputCount = 0)\n",
    "#set($invalidCount = 0)\n",
    "\n",
    "::::check local here:::: If correct then continue to outgoing flow\n",
    "#if($isLocaleSet == \"YES\") \n",
    ":::: locale set:::: \n",
    "\n",
    "\n",
    "  #if($internal.callDirection == \"OUTGOING\")\n",
    "    #if($messages.size() == 0)\n",
    "      ::::Go to outgoing flow whether message exists/not \n",
    "      ::::This allows \"initiate call\" button to move call on to outgoingflow\n",
    "      :::: outging message size is zero!:::: \n",
    "      |OutgoingFlow.entry|\n",
    "      :::: may fail because outging message size is zero!:::: \n",
    "    #else \n",
    "      ::::message size is greater than zero:::::::::::::::::::::::::\n",
    "      :::: outoging message size is greater than 0!:::: \n",
    "      |OutgoingFlow.entry|\n",
    "    #end\n",
    "  #else\n",
    "    ::::TODO:::::incoming call:::\n",
    "  #end\n",
    "#else\n",
    "\t\t|goodbye|\n",
    "#end "
   ]
  },
  {
   "cell_type": "markdown",
   "id": "bdbe8d10",
   "metadata": {},
   "source": [
    "exit"
   ]
  },
  {
   "cell_type": "markdown",
   "id": "b6fca568",
   "metadata": {},
   "source": [
    "#set($params.playedMessages = 'MainFlow_exit')"
   ]
  },
  {
   "cell_type": "markdown",
   "id": "1c1c69b5",
   "metadata": {},
   "source": [
    "no-input"
   ]
  },
  {
   "cell_type": "markdown",
   "id": "63a4a362",
   "metadata": {},
   "source": [
    "no-input-handler"
   ]
  },
  {
   "cell_type": "code",
   "execution_count": null,
   "id": "fcde54cd",
   "metadata": {
    "vscode": {
     "languageId": "plaintext"
    }
   },
   "outputs": [],
   "source": [
    "#set($params.playedMessages = 'MainFlow_no-input')\n",
    "#if ($noInputCount < 2)\n",
    "\t#set($noInputCount = $noInputCount + 1)\n",
    "\t|$returnNode|\n",
    "#else\n",
    "\t|OutgoingFlow.remove-first-message|\n",
    "#end"
   ]
  },
  {
   "cell_type": "markdown",
   "id": "6b582018",
   "metadata": {},
   "source": [
    "goodbye"
   ]
  },
  {
   "cell_type": "code",
   "execution_count": null,
   "id": "73df9543",
   "metadata": {
    "vscode": {
     "languageId": "plaintext"
    }
   },
   "outputs": [],
   "source": [
    "#set($voiceFileName = \"goodbye\")\n",
    "`$voiceFileName`"
   ]
  },
  {
   "cell_type": "markdown",
   "id": "53889851",
   "metadata": {},
   "source": [
    "goodbye-handler"
   ]
  },
  {
   "cell_type": "code",
   "execution_count": null,
   "id": "8fc25ca9",
   "metadata": {
    "vscode": {
     "languageId": "plaintext"
    }
   },
   "outputs": [],
   "source": [
    "#set($params.playedMessages = 'Mainflow_goodbye')\n",
    "|exit|"
   ]
  }
 ],
 "metadata": {
  "language_info": {
   "name": "python"
  }
 },
 "nbformat": 4,
 "nbformat_minor": 5
}
