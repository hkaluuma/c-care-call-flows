{
 "cells": [
  {
   "cell_type": "code",
   "execution_count": null,
   "id": "989d43cc",
   "metadata": {},
   "outputs": [],
   "source": [
    "## MainFlow entry\n",
    "#set($callId = $params.callId)\n",
    "#if(!$phone)\n",
    " #set($phone = $params.get(\"session.callerid\"))\n",
    "#end"
   ]
  },
  {
   "cell_type": "markdown",
   "id": "ec82c5a4",
   "metadata": {},
   "source": [
    "MainFlow"
   ]
  },
  {
   "cell_type": "code",
   "execution_count": null,
   "id": "4ad84c3b",
   "metadata": {},
   "outputs": [],
   "source": [
    "## entry-handler\n",
    "\n",
    "#set($params.playedMessages = 'MainFlow_entry')\n",
    "#set($params.playedMessages = $params.playedMessages + \"|MainFlow_entry_handler\")\n",
    "\n",
    "::::::::::::::::::::::::::::::::\n",
    "::::: MainFlow params logger::::\n",
    "phone:::::::::::: $phone\n",
    "session.callid::: $params.get(\"session.callerid\")\n",
    "::::::::::::::::::::::::::::::::\n",
    "params::::::::::: $params\n",
    "messages::::::::: $messages\n",
    "::::::::::::::::::::::::::::::::\n",
    "personId::::::::: $personId\n",
    "actorType:::::::: $actorType\n",
    "actorId:::::::::: $actorId\n",
    "refKey::::::::::: $refKey\n",
    "internal::::::::: $internal\n",
    "::::::::::::::::::::::::::::::::\n",
    "\n",
    "#set($callId = $internal.callId)\n",
    "#set($pinAttempts = 0)\n",
    "#set($maxPinAttempt = 3)\n",
    "\n",
    "#if($refKey)\n",
    "\t#set($sourceId = $refKey)\n",
    "  #set($sourceType = \"SCHEDULED_SERVICE_GROUP\")\n",
    "  #set($serviceGroup = $messagingGroupService.getById($Integer.parseInt($refKey)))\n",
    "  #set($patientId = $serviceGroup.getPatient().personId)\n",
    "patientId:::::::: $patientId\n",
    "service group:::: $sourceId\n",
    "#else\n",
    "\t#set($sourceId = $callId)\n",
    "  #set($sourceType = \"OTHER\")\n",
    "  #set($patientId = $actorId)\n",
    "#end\n",
    "\n",
    "#if(!$actorId && $personId)\n",
    "\t#set ($actorId = $personId)\n",
    "#elseif($actorId)\t\n",
    "\t#set ($actorId = $Integer.parseInt($actorId)) \n",
    "#end\n",
    "\n",
    "actorId:::::::::: $actorId\n",
    "#set ($person = $personDAO.getPerson($actorId))\n",
    "\n",
    "#if($person)\n",
    "\t  #set($personStatus = \"DEACTIVATED\")\n",
    "    #set($maxPinAttempt = 3)\n",
    "    #set($pinAttempts = 0)\n",
    ":::::::::::::::::::::::::::::::\n",
    "person attributes:::::::::::::::\n",
    "  \t#foreach($attribute in $person.getActiveAttributes())\n",
    "::::::::::::::::: $attribute.attributeType.name\n",
    "::::::::::::::::: $attribute.value\n",
    "::::::::::::::::: $attribute.voided\n",
    "      #if($attribute.attributeType.name == 'Person status' && !$attribute.voided)\n",
    "      \t#set($personStatus = $attribute.value)\n",
    "personStatus::::: $personStatus\n",
    "      #end\n",
    "    #end\n",
    ":::::::::::::::::::::::::::::::\n",
    "|VisitReminderFlow.|\n",
    "#else\n",
    "|exit|\n",
    "#end"
   ]
  },
  {
   "cell_type": "code",
   "execution_count": null,
   "id": "3a172986",
   "metadata": {},
   "outputs": [],
   "source": [
    "Main"
   ]
  },
  {
   "cell_type": "code",
   "execution_count": null,
   "id": "dd435858",
   "metadata": {},
   "outputs": [],
   "source": [
    "##Main-handler\n",
    "\n",
    "#set($params.playedMessages = 'MainFlow_main')\n",
    "#set($noInputCount = 0)\n",
    "#set($invalidCount = 0)\n",
    "#if($internal.callDirection == \"OUTGOING\")\n",
    "  #if($messages.size() == 0)\n",
    "    |MainFlow.goodbye|\n",
    "  #else\n",
    "    |OutgoingFlow.entry-handler|\n",
    "  #end\n",
    "#else\n",
    "\t|exit|\n",
    "#end"
   ]
  },
  {
   "cell_type": "code",
   "execution_count": null,
   "id": "e4b920fa",
   "metadata": {},
   "outputs": [],
   "source": [
    "##Test entry-handler\n",
    "#set($params.playedMessages = 'MainFlow_entry')\n",
    "#set($params.playedMessages = $params.playedMessages +'|MainFlow_entry-handler')\n",
    "\n",
    "#if($internal.callDirection == 'INCOMING' || $internal.callDirection == 'OUTGOING')\n",
    "  #set($personId = $internal.actor)\n",
    "\t#set($actorId = $personId)\n",
    "  #set($params.playedMessages = $params.playedMessages + '|ReachedHere')\n",
    "  #set($patientId = $personId)\n",
    "#end\n",
    "\n",
    "::::::::::::::::::::::::::::::::\n",
    "::::: MainFlow params logger::::\n",
    "phone:::::::::::: $phone\n",
    "session.callid::: $params.get(\"session.callerid\")\n",
    "::::::::::::::::::::::::::::::::\n",
    "params::::::::::: $params\n",
    "messages::::::::: $messages\n",
    "::::::::::::::::::::::::::::::::\n",
    "::::personId::::::::::::::: $personId\n",
    "::::actorType:::::::::::::: $actorType\n",
    "::::actorId:::::::::::::::: $actorId\n",
    "::::refKey::::::::::::::::: $refKey::::messagesscheduledServicegroupId::::phone::::::::::::::::::$phone\n",
    "::::internal:::::::::::::::internal:::causes exception that hides other watch logs\n",
    "::::callId = $internal.callId\n",
    "::::::::::::::::::::::::::::::::\n",
    "\n",
    "#set($callId = $internal.callId)\n",
    "#set($pinAttempts = 0)\n",
    "#set($maxPinAttempt = 3)\n",
    "#set($isLocaleSet = \"NO\")\n",
    "  \n",
    "#if($refKey)\n",
    "\t#set($sourceId = $refKey)\n",
    "  #set($sourceType = \"SCHEDULED_SERVICE_GROUP\")\n",
    "  #set($serviceGroup = $messagingGroupService.getById($Integer.parseInt($refKey)))\n",
    "  \n",
    "  ::::personId::::::::::::::: $personId\n",
    "::::actorType:::::::::::::: $actorType\n",
    "::::actorId:::::::::::::::: $actorId\n",
    "  \n",
    "\n",
    "  ##set($patientId = $serviceGroup.getPatient().personId)\n",
    "patientId:::::::: $patientId\n",
    "service group:::: $sourceId\n",
    "  ## testing|main\n",
    "#else\n",
    "\t#set($sourceId = $callId)\n",
    "  #set($sourceType = \"OTHER\")\n",
    "  #set($patientId = $actorId)\n",
    "#end\n",
    "\n",
    "#if(!$actorId && $personId)\n",
    "\t#set ($actorId = $personId)\n",
    "#elseif($actorId)\t\n",
    "\t#set ($actorId = $Integer.parseInt($actorId)) \n",
    "#end\n",
    "\n",
    "Testing actorId:::::::::: $actorId\n",
    "#if($actorId)\n",
    "\t#set($person = $personDAO.getPerson($actorId))\n",
    "#else\n",
    " |main\n",
    "#end \n",
    "\n",
    "\n",
    "#if($person)\n",
    "\n",
    "\t  #set($personStatus = \"DEACTIVATED\")\n",
    "    #set($maxPinAttempt = 3)\n",
    "    #set($pinAttempts = 0)\n",
    "  \t#foreach($attribute in $person.getActiveAttributes())\n",
    "\n",
    "      #if($attribute.attributeType.name == 'Person status' && !$attribute.voided)\n",
    "      \t#set($personStatus = $attribute.value)\n",
    "      #end\n",
    "      #if($attribute.attributeType.name == 'personLanguage' && !$attribute.voided)\n",
    "        #set($locale = $attribute.value)\n",
    "      \t#set($isLocaleSet = \"YES\")\n",
    "        #set($isvoided = $attribute.voided)\n",
    "      #end\n",
    "      ##if($attribute.attributeType.name == 'personLanguage' && !$attribute.voided)\n",
    "      \t##set($locale = $attribute.value)\n",
    "      ##end\n",
    "    #end\n",
    ":::::::::Locale:::::::::::::: $locale\n",
    ":::::::::isLocaleSet::::::::: $isLocaleSet\n",
    ":::::::::PersonStatus:::::::: $personStatus\n",
    ":::::::::isvoided?::::::::::: $isvoided\n",
    "\n",
    "phone:::::::::::: $phone\n",
    "##session.callid::: $params.get(\"session.callerid\")\n",
    "::::::::::::::::::::::::::::::::\n",
    "##params::::::::::: $params\n",
    "##messages::::::::: $messages\n",
    "::::::::::::::::::::::::::::::::\n",
    "personId::::::::: $personId\n",
    "actorType:::::::: $actorType\n",
    "actorId:::::::::: $actorId\n",
    "refKey::::::::::: $refKey\n",
    "internal::::::::: $internal\n",
    "::::::::::::::::::::::::::::::::\n",
    " #set($params.playedMessages = $params.playedMessages + '|ReachedHere')\n",
    "    |main-handler|\n",
    "#else\n",
    "\t\t|exit|\n",
    "#end"
   ]
  },
  {
   "cell_type": "markdown",
   "id": "1fb8b8af",
   "metadata": {},
   "source": [
    "Outgoing flow"
   ]
  },
  {
   "cell_type": "code",
   "execution_count": null,
   "id": "a1e4e917",
   "metadata": {},
   "outputs": [],
   "source": [
    "##outgoing flow_ entry-handler\n",
    "#set($params.playedMessages = 'OutgoingFlow_entry')\n",
    "#if($messages.size() > 0)\n",
    " #set($message = $messages.get(0))\n",
    " #if($message.name == 'Adherence report daily')\n",
    "    |AdherenceReportDailyFlow.|\n",
    "  #elseif($message.name == 'Health tip')\n",
    "    |HealthTipFlow.|\n",
    "  #elseif($message.name == 'Adherence report weekly')\n",
    "    |AdherenceReportWeeklyFlow.|\n",
    "  #elseif($message.name == 'Visit reminder')\n",
    "    |VisitReminderFlow.|\n",
    "  #elseif($message.name == 'Adherence feedback')\n",
    "    |AdherenceFeedbackFlow.|\n",
    "  #elseif($message.name == 'Welcome Message')\n",
    "    |WelcomeMessageFlow.|\n",
    "  #end\n",
    "  after removal messages::::::::: $messages\n",
    "#else\n",
    "  |MainFlow.goodbye|\n",
    "#end"
   ]
  },
  {
   "cell_type": "markdown",
   "id": "d470442a",
   "metadata": {},
   "source": [
    "Visit reminder flow"
   ]
  },
  {
   "cell_type": "markdown",
   "id": "c3479546",
   "metadata": {},
   "source": [
    "entry"
   ]
  },
  {
   "cell_type": "markdown",
   "id": "7b53aadd",
   "metadata": {},
   "source": [
    "entry-handler"
   ]
  },
  {
   "cell_type": "code",
   "execution_count": null,
   "id": "be849cf8",
   "metadata": {},
   "outputs": [],
   "source": [
    "#set($params.playedMessages = 'VisitReminderFlow_entry')\n",
    "#set($textToRead = \"You have scheduled visit\")\n",
    "#set($locationId = $messages.get(0).params.locationId)\n",
    "#set($visitTime = $messages.get(0).params.timeStarted)\n",
    "#set($visitDate = $messages.get(0).params.dateStarted)\n",
    "#set($visitDateWithoutTime = $visitDate.substring(0, 10))\n",
    "#set($locationToRead = \"\")\n",
    "#set($timeToRead = \"\")\n",
    "#if($locationId)\n",
    "\t#set($locationId = $Integer.parseInt($locationId))\n",
    "  #set($location = $locationService.getLocation($locationId).getDisplayString())\n",
    "\t#set($locationToRead = \"Please go to the clinic $location\")\n",
    "#end\n",
    "#if($visitTime)\n",
    "  #set($timeToRead = \"at $visitTime\")\n",
    "#end\n",
    "\n",
    "|play-reminder|"
   ]
  },
  {
   "cell_type": "markdown",
   "id": "d0191fa0",
   "metadata": {},
   "source": [
    "play-reminder"
   ]
  },
  {
   "cell_type": "markdown",
   "id": "e9bcce40",
   "metadata": {},
   "source": [
    " play-reminder-handler"
   ]
  },
  {
   "cell_type": "code",
   "execution_count": null,
   "id": "de8f29cc",
   "metadata": {},
   "outputs": [],
   "source": [
    "#set($params.playedMessages = 'VisitReminderFlow_play-reminder')\n",
    "#if($reminderPlayed)\n",
    ":::::::::: REPEATED REMINDER ::::::::::\n",
    "|end|\n",
    "#else\n",
    ":::::::::: REMINDER DELIVERED ::::::::::\n",
    "  $messagesService.registerAttempt($visitReminderMessageId, 'DELIVERED', $DateUtil.now(), $callId)\n",
    "  #set($reminderPlayed = true)\n",
    "#end\n",
    "|repeat-message|\n",
    "##|end|"
   ]
  },
  {
   "cell_type": "markdown",
   "id": "6da6667b",
   "metadata": {},
   "source": [
    "end"
   ]
  },
  {
   "cell_type": "markdown",
   "id": "e340a61c",
   "metadata": {},
   "source": [
    "end-handler"
   ]
  },
  {
   "cell_type": "code",
   "execution_count": null,
   "id": "de8485c8",
   "metadata": {},
   "outputs": [],
   "source": [
    "#set($params.playedMessages = 'VisitReminderFlow_end')\n",
    "$messages.remove(0)\n",
    "|OutgoingFlow.entry-handler|"
   ]
  },
  {
   "cell_type": "markdown",
   "id": "1e4ac8b8",
   "metadata": {},
   "source": [
    "repeat-message"
   ]
  },
  {
   "cell_type": "markdown",
   "id": "659bffda",
   "metadata": {},
   "source": [
    "repeat-message-handler"
   ]
  },
  {
   "cell_type": "code",
   "execution_count": null,
   "id": "dd7b686a",
   "metadata": {},
   "outputs": [],
   "source": [
    "#set($params.playedMessages = 'VisitReminderFlow_repeat-message')\n",
    "#set($repeatAnswer = $params.dtmf)\n",
    "repeatAnswer:::::::::::::::::: $repeatAnswer\n",
    "#if($repeatAnswer == '1')\n",
    "  #set($params.playedMessages = $params.playedMessages + \"|$repeatAnswer\")\n",
    "  |play-reminder|\n",
    "#else\n",
    "  |end| \n",
    "#end"
   ]
  }
 ],
 "metadata": {
  "language_info": {
   "name": "python"
  }
 },
 "nbformat": 4,
 "nbformat_minor": 5
}
