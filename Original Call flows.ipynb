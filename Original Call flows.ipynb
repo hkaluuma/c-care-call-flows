{
 "cells": [
  {
   "cell_type": "code",
   "execution_count": null,
   "id": "989d43cc",
   "metadata": {},
   "outputs": [],
   "source": [
    "## MainFlow entry\n",
    "#set($callId = $params.callId)\n",
    "#if(!$phone)\n",
    " #set($phone = $params.get(\"session.callerid\"))\n",
    "#end"
   ]
  },
  {
   "cell_type": "code",
   "execution_count": null,
   "id": "4ad84c3b",
   "metadata": {},
   "outputs": [],
   "source": [
    "## entry-handler\n",
    "\n",
    "#set($params.playedMessages = 'MainFlow_entry')\n",
    "#set($params.playedMessages = $params.playedMessages + \"|MainFlow_entry_handler\")\n",
    "\n",
    "::::::::::::::::::::::::::::::::\n",
    "::::: MainFlow params logger::::\n",
    "phone:::::::::::: $phone\n",
    "session.callid::: $params.get(\"session.callerid\")\n",
    "::::::::::::::::::::::::::::::::\n",
    "params::::::::::: $params\n",
    "messages::::::::: $messages\n",
    "::::::::::::::::::::::::::::::::\n",
    "personId::::::::: $personId\n",
    "actorType:::::::: $actorType\n",
    "actorId:::::::::: $actorId\n",
    "refKey::::::::::: $refKey\n",
    "internal::::::::: $internal\n",
    "::::::::::::::::::::::::::::::::\n",
    "\n",
    "#set($callId = $internal.callId)\n",
    "#set($pinAttempts = 0)\n",
    "#set($maxPinAttempt = 3)\n",
    "\n",
    "#if($refKey)\n",
    "\t#set($sourceId = $refKey)\n",
    "  #set($sourceType = \"SCHEDULED_SERVICE_GROUP\")\n",
    "  #set($serviceGroup = $messagingGroupService.getById($Integer.parseInt($refKey)))\n",
    "  #set($patientId = $serviceGroup.getPatient().personId)\n",
    "patientId:::::::: $patientId\n",
    "service group:::: $sourceId\n",
    "#else\n",
    "\t#set($sourceId = $callId)\n",
    "  #set($sourceType = \"OTHER\")\n",
    "  #set($patientId = $actorId)\n",
    "#end\n",
    "\n",
    "#if(!$actorId && $personId)\n",
    "\t#set ($actorId = $personId)\n",
    "#elseif($actorId)\t\n",
    "\t#set ($actorId = $Integer.parseInt($actorId)) \n",
    "#end\n",
    "\n",
    "actorId:::::::::: $actorId\n",
    "#set ($person = $personDAO.getPerson($actorId))\n",
    "\n",
    "#if($person)\n",
    "\t  #set($personStatus = \"DEACTIVATED\")\n",
    "    #set($maxPinAttempt = 3)\n",
    "    #set($pinAttempts = 0)\n",
    ":::::::::::::::::::::::::::::::\n",
    "person attributes:::::::::::::::\n",
    "  \t#foreach($attribute in $person.getActiveAttributes())\n",
    "::::::::::::::::: $attribute.attributeType.name\n",
    "::::::::::::::::: $attribute.value\n",
    "::::::::::::::::: $attribute.voided\n",
    "      #if($attribute.attributeType.name == 'Person status' && !$attribute.voided)\n",
    "      \t#set($personStatus = $attribute.value)\n",
    "personStatus::::: $personStatus\n",
    "      #end\n",
    "    #end\n",
    ":::::::::::::::::::::::::::::::\n",
    "|VisitReminderFlow.|\n",
    "#else\n",
    "|exit|\n",
    "#end"
   ]
  },
  {
   "cell_type": "markdown",
   "id": "2acc2089",
   "metadata": {},
   "source": [
    "## entry-handler"
   ]
  }
 ],
 "metadata": {
  "language_info": {
   "name": "python"
  }
 },
 "nbformat": 4,
 "nbformat_minor": 5
}
