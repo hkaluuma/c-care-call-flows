{
 "cells": [
  {
   "cell_type": "markdown",
   "id": "991232e8",
   "metadata": {},
   "source": [
    "Administration/systemadmin/globalproperties/manageGlobalProperties.page"
   ]
  },
  {
   "cell_type": "code",
   "execution_count": null,
   "id": "779b4460",
   "metadata": {
    "vscode": {
     "languageId": "plaintext"
    }
   },
   "outputs": [],
   "source": [
    "messages.messsageDeliveryJobInterval: 180 from 86400"
   ]
  },
  {
   "cell_type": "code",
   "execution_count": null,
   "id": "2287312a",
   "metadata": {
    "vscode": {
     "languageId": "plaintext"
    }
   },
   "outputs": [],
   "source": [
    "message.daysToCallBeforeVisit.default: 1,7"
   ]
  },
  {
   "cell_type": "code",
   "execution_count": null,
   "id": "28a18ffe",
   "metadata": {
    "vscode": {
     "languageId": "plaintext"
    }
   },
   "outputs": [],
   "source": [
    "messages.callConfig: voxeo-mobile"
   ]
  },
  {
   "cell_type": "code",
   "execution_count": null,
   "id": "6dbcdb68",
   "metadata": {
    "vscode": {
     "languageId": "plaintext"
    }
   },
   "outputs": [],
   "source": [
    "messages.maxNumberOfAttempts: 3"
   ]
  },
  {
   "cell_type": "code",
   "execution_count": null,
   "id": "2278b5dd",
   "metadata": {
    "vscode": {
     "languageId": "plaintext"
    }
   },
   "outputs": [],
   "source": [
    "messages.defaultUserTimezone: Africa/Nairobi"
   ]
  },
  {
   "cell_type": "code",
   "execution_count": null,
   "id": "fb4efe1d",
   "metadata": {
    "vscode": {
     "languageId": "plaintext"
    }
   },
   "outputs": [],
   "source": [
    "messages.defaultFlow: MainFlow"
   ]
  },
  {
   "cell_type": "code",
   "execution_count": null,
   "id": "68f81dfc",
   "metadata": {
    "vscode": {
     "languageId": "plaintext"
    }
   },
   "outputs": [],
   "source": [
    "If using api : Manage identifier type:  OpenMRS ID: Identifier validator : None"
   ]
  },
  {
   "cell_type": "markdown",
   "id": "8285f0f8",
   "metadata": {},
   "source": [
    "Check the timezones of the servers, database and CFL UI in messages.defaultUserTimezone"
   ]
  },
  {
   "cell_type": "code",
   "execution_count": null,
   "id": "0fcce759",
   "metadata": {
    "vscode": {
     "languageId": "plaintext"
    }
   },
   "outputs": [],
   "source": [
    "-- for Database\n",
    "Select now();\n",
    "\n",
    "## For Server ssh to cfl server\n",
    "timedatectl\n",
    "\n",
    "## Change the time of the server\n",
    "sudo timedatectl set-timezone Africa/Kampala\n",
    "\n",
    "## For the docker Container (outside the container)\n",
    "docker exec cfl_web_1 date\n",
    "\n",
    "## Change the timezone of the container\n",
    "docker exec -it cfl_web_1 bash\n",
    "apt update && apt install -y tzdata\n",
    "ln -sf /usr/share/zoneinfo/Africa/Kampala /etc/localtime\n",
    "echo \"Africa/Kampala\" > /etc/timezone\n",
    "\n",
    "##To check the date\n",
    "date"
   ]
  },
  {
   "cell_type": "markdown",
   "id": "e0552020",
   "metadata": {},
   "source": [
    "For the API to work once you send requests to it."
   ]
  },
  {
   "cell_type": "code",
   "execution_count": null,
   "id": "81e4aa75",
   "metadata": {
    "vscode": {
     "languageId": "plaintext"
    }
   },
   "outputs": [],
   "source": [
    "Go to: systems administration, advanced Administration, Patients: Manage identifier Types, Openmrs ID, Identifier validator: None"
   ]
  },
  {
   "cell_type": "markdown",
   "id": "e8dd1c1d",
   "metadata": {},
   "source": [
    "Change the Patient page UI components"
   ]
  },
  {
   "cell_type": "markdown",
   "id": "9469e686",
   "metadata": {},
   "source": [
    "Go to Home - System Administration - Manage applications - search the title for the UI component and disable or enable it."
   ]
  }
 ],
 "metadata": {
  "language_info": {
   "name": "python"
  }
 },
 "nbformat": 4,
 "nbformat_minor": 5
}
